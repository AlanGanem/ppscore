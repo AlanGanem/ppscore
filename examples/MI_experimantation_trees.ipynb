{
 "cells": [
  {
   "cell_type": "code",
   "execution_count": 17,
   "id": "78c42d35-6ab5-4dae-b274-14d74a97be7d",
   "metadata": {
    "execution": {
     "iopub.execute_input": "2022-12-20T14:22:50.408116Z",
     "iopub.status.busy": "2022-12-20T14:22:50.407778Z",
     "iopub.status.idle": "2022-12-20T14:22:50.438053Z",
     "shell.execute_reply": "2022-12-20T14:22:50.437331Z",
     "shell.execute_reply.started": "2022-12-20T14:22:50.408090Z"
    },
    "tags": []
   },
   "outputs": [],
   "source": [
    "%load_ext autoreload\n",
    "%autoreload 2"
   ]
  },
  {
   "cell_type": "code",
   "execution_count": 18,
   "id": "969f2383-46d4-4459-a9ce-129719f88f40",
   "metadata": {
    "execution": {
     "iopub.execute_input": "2022-12-20T14:22:50.592253Z",
     "iopub.status.busy": "2022-12-20T14:22:50.591913Z",
     "iopub.status.idle": "2022-12-20T14:22:51.130448Z",
     "shell.execute_reply": "2022-12-20T14:22:51.129691Z",
     "shell.execute_reply.started": "2022-12-20T14:22:50.592225Z"
    },
    "tags": []
   },
   "outputs": [],
   "source": [
    "import numpy as np\n",
    "import seaborn as sns\n",
    "import matplotlib.pyplot as plt\n",
    "from sklearn.preprocessing import KBinsDiscretizer\n",
    "from sklearn.tree import DecisionTreeClassifier\n",
    "\n",
    "from scipy.stats import entropy as scipy_entropy\n",
    "\n",
    "from sklearn.ensemble import RandomTreesEmbedding\n",
    "from sklearn.tree import DecisionTreeClassifier\n",
    "import sys\n",
    "sys.path.append(\"../src/ppscore\")\n",
    "from preprocessing import RobustKBinsDiscretizer"
   ]
  },
  {
   "cell_type": "markdown",
   "id": "060febe0-cfbc-4e85-95de-3362e53c3794",
   "metadata": {},
   "source": [
    "# Code"
   ]
  },
  {
   "cell_type": "code",
   "execution_count": 764,
   "id": "7fdf1152-b929-4aae-a1ab-f9e87b49a05e",
   "metadata": {
    "execution": {
     "iopub.execute_input": "2022-12-21T05:28:22.831183Z",
     "iopub.status.busy": "2022-12-21T05:28:22.830793Z",
     "iopub.status.idle": "2022-12-21T05:28:22.885745Z",
     "shell.execute_reply": "2022-12-21T05:28:22.884537Z",
     "shell.execute_reply.started": "2022-12-21T05:28:22.831156Z"
    },
    "tags": []
   },
   "outputs": [],
   "source": [
    "from sklearn.model_selection import cross_val_score\n",
    "import pandas as pd\n",
    "import numpy as np\n",
    "\n",
    "from sklearn.pipeline import make_pipeline\n",
    "from sklearn.impute import SimpleImputer\n",
    "from sklearn.preprocessing import FunctionTransformer, QuantileTransformer, OneHotEncoder, OrdinalEncoder\n",
    "from sklearn.base import BaseEstimator, clone\n",
    "from copy import deepcopy\n",
    "from sklearn.ensemble import RandomForestClassifier\n",
    "from sklearn.tree import DecisionTreeClassifier\n",
    "\n",
    "from preprocessing import RobustKBinsDiscretizer\n",
    "\n",
    "from copy import deepcopy\n",
    "\n",
    "class MutualInformationForest(RandomForestClassifier):\n",
    "    \n",
    "    \"\"\"A decision tree classifier where the target is discretized. usefull to transform regression into classification.\n",
    "    One can choose to discretize X as well or not. Discretization is performed using RobustKBinsDiscretizer. \n",
    "    This estimator is robust to np.inf, -np.inf and np.nans if handle_nan is set to True. if one chooses to discretize X, it is also robust in the same cases.\n",
    "    Also, this implementation exposesget_leaf_entropies and get_information_gain as usefull methods for mutual information estimation.\n",
    "        \n",
    "    \n",
    "    \"\"\"\n",
    "    \n",
    "    \n",
    "    def __init__(        \n",
    "        self,\n",
    "        n_estimators=1,\n",
    "        *,\n",
    "        criterion=\"gini\",\n",
    "        max_depth=None,\n",
    "        min_samples_split=2,\n",
    "        min_samples_leaf=1,\n",
    "        min_weight_fraction_leaf=0.0,\n",
    "        max_features=\"sqrt\",\n",
    "        max_leaf_nodes=None,\n",
    "        min_impurity_decrease=0.0,\n",
    "        bootstrap=True,\n",
    "        oob_score=False,\n",
    "        n_jobs=None,\n",
    "        random_state=None,\n",
    "        verbose=0,\n",
    "        warm_start=False,\n",
    "        class_weight=None,\n",
    "        ccp_alpha=0.0,\n",
    "        max_samples=None,\n",
    "        #quantization params\n",
    "        n_bins_X=None,        \n",
    "        n_bins_y=10,        \n",
    "        strategy_X='kmeans',\n",
    "        strategy_y='kmeans',\n",
    "        handle_nan_X = 'handle', #error, handle, ignore        \n",
    "        handle_nan_y = 'error', #error, handle, ignore        \n",
    "    ):\n",
    "        \n",
    "        \n",
    "        \n",
    "        self.n_bins_X = n_bins_X\n",
    "        self.n_bins_y = n_bins_y\n",
    "        self.strategy_X = strategy_X\n",
    "        self.strategy_y = strategy_y\n",
    "        self.handle_nan_X = handle_nan_X\n",
    "        self.handle_nan_y = handle_nan_y\n",
    "        super().__init__(\n",
    "            n_estimators=n_estimators,\n",
    "            criterion=criterion,\n",
    "            max_depth=max_depth,\n",
    "            min_samples_split=min_samples_split,\n",
    "            min_samples_leaf=min_samples_leaf,\n",
    "            min_weight_fraction_leaf=min_weight_fraction_leaf,\n",
    "            max_features=max_features,\n",
    "            max_leaf_nodes=max_leaf_nodes,\n",
    "            min_impurity_decrease=min_impurity_decrease,\n",
    "            bootstrap=bootstrap,\n",
    "            oob_score=oob_score,\n",
    "            n_jobs=n_jobs,\n",
    "            random_state=random_state,\n",
    "            verbose=verbose,\n",
    "            warm_start=warm_start,\n",
    "            class_weight=class_weight,\n",
    "            ccp_alpha=ccp_alpha,\n",
    "            max_samples=max_samples,\n",
    "        )\n",
    "        return\n",
    "    \n",
    "    def _ensure_2d(self, arr):\n",
    "        if arr.ndim == 1:\n",
    "            arr = arr.reshape(-1,1)\n",
    "        return arr\n",
    "    \n",
    "    def _fit_preprocess_data(self, X, y = None):        \n",
    "        \n",
    "        X = np.array(X)\n",
    "        \n",
    "        X = self._ensure_2d(X)\n",
    "        max_X = np.finfo(np.float32).max\n",
    "        min_X = np.finfo(np.float32).min        \n",
    "\n",
    "        if not self.n_bins_X is None:\n",
    "            nanimputer = FunctionTransformer()\n",
    "            infimputer = FunctionTransformer()\n",
    "            neginfimputer = FunctionTransformer()\n",
    "            x_quant = RobustKBinsDiscretizer(self.n_bins_X, encode = \"ordinal\", handle_nan = self.handle_nan_X, strategy=self.strategy_X, return_sparse = False)\n",
    "        else:\n",
    "            if self.handle_nan_X == \"handle\":\n",
    "                nanimputer = FunctionTransformer(lambda x: np.where(x!=x,min_X, x))                     \n",
    "                infimputer = FunctionTransformer(lambda x: np.where(x==np.inf,max_X, x))\n",
    "                neginfimputer = FunctionTransformer(lambda x: np.where(x==-np.inf,min_X+1, x))             \n",
    "                x_quant = FunctionTransformer()\n",
    "            else:\n",
    "                nanimputer = FunctionTransformer()\n",
    "                infimputer = FunctionTransformer()\n",
    "                neginfimputer = FunctionTransformer()\n",
    "                x_quant = FunctionTransformer()\n",
    "                \n",
    "                \n",
    "        \n",
    "        if not y is None:\n",
    "            y = np.array(y)\n",
    "            y = self._ensure_2d(y)\n",
    "            if not y.dtype in (float,int):\n",
    "                caster = FunctionTransformer(lambda d: d.astype(str))\n",
    "                enc = OrdinalEncoder(handle_unknown='use_encoded_value', unknown_value=-1)\n",
    "                self.y_preprocessor = make_pipeline(caster,enc).fit(y)\n",
    "            \n",
    "            else:\n",
    "\n",
    "                max_y = np.finfo(np.float32).max\n",
    "                min_y = np.finfo(np.float32).min        \n",
    "\n",
    "                y_infimputer = FunctionTransformer(lambda x: np.where(x==np.inf,max_y, x))\n",
    "                y_neginfimputer = FunctionTransformer(lambda x: np.where(x==-np.inf,min_y+1, x))     \n",
    "                \n",
    "                y_caster = FunctionTransformer(lambda d: d.astype(str))\n",
    "\n",
    "                y_quant = RobustKBinsDiscretizer(self.n_bins_y, encode = \"ordinal\", handle_nan = self.handle_nan_y, strategy=self.strategy_y, return_sparse = False)\n",
    "                self.y_preprocessor = make_pipeline(y_infimputer, y_neginfimputer, y_quant).fit(y)\n",
    "        \n",
    "        self.X_preprocessor = make_pipeline(infimputer, neginfimputer, nanimputer, x_quant).fit(X)\n",
    "    \n",
    "    def _preprocess_data(self, X, y = None):\n",
    "        X = self._ensure_2d(X)\n",
    "        X = self.X_preprocessor.transform(X)\n",
    "        if not y is None:\n",
    "            y = self._ensure_2d(y)\n",
    "            y = self.y_preprocessor.transform(y)\n",
    "        else:\n",
    "            y = None\n",
    "        \n",
    "        return X, y\n",
    "    \n",
    "    def fit(self, X, y = None, sample_weight = None):\n",
    "        self._fit_preprocess_data(X,y)\n",
    "        X,y = self._preprocess_data(X,y)\n",
    "        \n",
    "        super().fit(X,y, sample_weight)\n",
    "        return self\n",
    "    \n",
    "    def predict(self, X, **kwargs):\n",
    "        X,y = self._preprocess_data(X,None)\n",
    "        return super().predict(X, **kwargs)\n",
    "    \n",
    "    def apply(self, X, **kwargs):\n",
    "        X,y = self._preprocess_data(X,None)\n",
    "        return super().apply(X, **kwargs)\n",
    "    \n",
    "    def predict_proba(self, X, **kwargs):\n",
    "        X,y = self._preprocess_data(X,None)\n",
    "        return super().predict_proba(X, **kwargs)\n",
    "    \n",
    "    def predict_log_proba(self, X, **kwargs):\n",
    "        X,y = self._preprocess_data(X,None)\n",
    "        return super().predict_log_proba(X, **kwargs)\n",
    "    \n",
    "    def cost_complexity_pruning_path(self, X, y = None, **kawrgs):\n",
    "        X,y = self._preprocess_data(X,y)\n",
    "        return super().cost_complexity_pruning_path(X, y, **kwargs)\n",
    "\n",
    "    def decision_path(self, X):\n",
    "        X,y = self._preprocess_data(X,None)\n",
    "        return super().decision_path(X)\n",
    "    \n",
    "    def leaf_entropies(self, X, y, sample_weight = None, shuffle = False, joint = False):\n",
    "                \n",
    "        y = np.array(y)        \n",
    "        y = self._ensure_2d(y)                        \n",
    "                \n",
    "        X,y = self._preprocess_data(X,y)\n",
    "                                            \n",
    "        leafs = self.apply(X)\n",
    "        if shuffle: \n",
    "            shuffled_idxs = np.random.choice(np.arange(len(leafs)), len(leafs), replace = False)\n",
    "            leafs = leafs[shuffled_idxs]\n",
    "                \n",
    "        #flatten avoiding colisions\n",
    "        n_trees = leafs.shape[1]\n",
    "        leafs = leafs + (leafs.max(0)+1).cumsum()\n",
    "        leafs = leafs.T.flatten().reshape(-1,1)\n",
    "        y=np.vstack(n_trees*[y])\n",
    "        if not sample_weight is None:\n",
    "            sample_weight=np.hstack(n_trees*[sample_weight.flatten()])\n",
    "                \n",
    "        if sample_weight is None:\n",
    "            total_sample_size = len(y)\n",
    "            a = np.hstack([leafs,y])            \n",
    "            a = a[a[:, 0].argsort()]            \n",
    "            if not joint:\n",
    "                \n",
    "                entropies = np.array([[(len(i)/total_sample_size)*entropy(i) for i in np.split(a[:, j+1], np.unique(a[:, 0], return_index=True)[1][1:])] for j in range(y.shape[1])]).T\n",
    "            else:                \n",
    "                entropies = np.array([[(len(i)/total_sample_size)*entropy(i) for i in np.split(a[:, 1:], np.unique(a[:, 0], return_index=True)[1][1:])]]).T\n",
    "            \n",
    "        else:\n",
    "            total_sample_size = np.sum(sample_weight)\n",
    "            a = np.array([leafs,y, sample_weight]).T\n",
    "            a = a[a[:, 0].argsort()]\n",
    "            groups = np.split(a[:, 1:], np.unique(a[:, 0], return_index=True)[1][1:])\n",
    "            entropies = np.array([(len(i)/total_sample_size)*entropy(i[:,0], i[:,1]) for i in groups])\n",
    "                \n",
    "        \n",
    "        return entropies\n",
    "    \n",
    "    def conditional_mutual_information(self, X, y, sample_weight = None, normalize = True):\n",
    "                        \n",
    "        sample_entropy = self.leaf_entropies(X, y, sample_weight, shuffle = False, joint = False)                \n",
    "        joint_sample_entropy = self.leaf_entropies(X, y, sample_weight, shuffle = False, joint = True)\n",
    "        \n",
    "        Hjoint = joint_sample_entropy.sum(0)\n",
    "        Hmarginal =  sample_entropy.sum(0)\n",
    "                \n",
    "        cmi = Hmarginal.sum() - Hjoint\n",
    "        if normalize:\n",
    "            shuffled_sample_entropy = self.leaf_entropies(X, y, sample_weight, shuffle = True, joint = False)\n",
    "            joint_shuffled_sample_entropy = self.leaf_entropies(X, y, sample_weight, shuffle = True, joint = True)\n",
    "            norm = shuffled_sample_entropy.sum() - joint_shuffled_sample_entropy.sum()\n",
    "            cmi = cmi/norm\n",
    "            \n",
    "        return max(0, cmi)\n",
    "    \n",
    "    def mutual_information(self, X, y, sample_weight = None, normalize = True):\n",
    "        #H(x)\n",
    "        joint_shuffled_sample_entropy = self.leaf_entropies(X, y, sample_weight, shuffle = True, joint = True)\n",
    "        #H(x|y)\n",
    "        joint_sample_entropy = self.leaf_entropies(X, y, sample_weight, shuffle = False, joint = True)\n",
    "                                \n",
    "        mi = joint_shuffled_sample_entropy.sum() - joint_sample_entropy.sum()\n",
    "        if normalize:            \n",
    "            norm = joint_shuffled_sample_entropy.sum()\n",
    "            mi = mi/norm            \n",
    "        return max(0, mi)\n",
    "    \n",
    "    \n",
    "    def score(self, X, y, sample_weight = None):\n",
    "        return self.get_information_gain(X, y, sample_weight, n_bins = n_bins,infer_fitted_y = infer_fitted_y)\n",
    "        \n",
    "def entropy(leaf_targets, sample_weight = None):\n",
    "    \n",
    "    #case for joint entropy\n",
    "    if leaf_targets.ndim > 1:\n",
    "        if leaf_targets.shape[1] > 1:\n",
    "            leaf_targets = [\"_\".join(i) for i in leaf_targets.astype(str)]\n",
    "    \n",
    "    if sample_weight is None:\n",
    "        _, p = np.unique(leaf_targets, return_counts=True)\n",
    "        p = p/p.sum()\n",
    "        \n",
    "    else:        \n",
    "        p = np.zeros((leaf_targets.size, int(leaf_targets.max() + 1)), dtype = float)\n",
    "        p[np.arange(leaf_targets.size), leaf_targets.astype(int)] = 1\n",
    "        p = p*(sample_weight.reshape(-1,1))\n",
    "        p = p.sum(0)\n",
    "        p = p[p>0]\n",
    "        p = p/p.sum()        \n",
    "    return np.sum(-p*np.log(p))        \n"
   ]
  },
  {
   "cell_type": "code",
   "execution_count": 585,
   "id": "df5541d9-f3db-4d52-bdc8-275a23ec4d6c",
   "metadata": {
    "execution": {
     "iopub.execute_input": "2022-12-21T04:44:49.161678Z",
     "iopub.status.busy": "2022-12-21T04:44:49.161363Z",
     "iopub.status.idle": "2022-12-21T04:44:49.239479Z",
     "shell.execute_reply": "2022-12-21T04:44:49.238738Z",
     "shell.execute_reply.started": "2022-12-21T04:44:49.161654Z"
    },
    "tags": []
   },
   "outputs": [],
   "source": [
    "d = np.random.randint(0,10,(10000,10)).astype(str)"
   ]
  },
  {
   "cell_type": "code",
   "execution_count": 676,
   "id": "039ed270-e282-4354-af45-547998ce2722",
   "metadata": {
    "execution": {
     "iopub.execute_input": "2022-12-21T05:01:25.974152Z",
     "iopub.status.busy": "2022-12-21T05:01:25.973764Z",
     "iopub.status.idle": "2022-12-21T05:01:26.030891Z",
     "shell.execute_reply": "2022-12-21T05:01:26.030144Z",
     "shell.execute_reply.started": "2022-12-21T05:01:25.974131Z"
    },
    "tags": []
   },
   "outputs": [
    {
     "data": {
      "text/plain": [
       "4.599760668326104"
      ]
     },
     "execution_count": 676,
     "metadata": {},
     "output_type": "execute_result"
    }
   ],
   "source": [
    "entropy(np.random.randint(0,10,(10000,2)))"
   ]
  },
  {
   "cell_type": "markdown",
   "id": "fafefab2-455e-408d-8f35-eb9d17c5185f",
   "metadata": {},
   "source": [
    "# Data"
   ]
  },
  {
   "cell_type": "code",
   "execution_count": 570,
   "id": "bc3cfc87-6694-409c-a531-b3436a731794",
   "metadata": {
    "execution": {
     "iopub.execute_input": "2022-12-21T04:41:38.961241Z",
     "iopub.status.busy": "2022-12-21T04:41:38.960601Z",
     "iopub.status.idle": "2022-12-21T04:41:38.989647Z",
     "shell.execute_reply": "2022-12-21T04:41:38.988812Z",
     "shell.execute_reply.started": "2022-12-21T04:41:38.961212Z"
    },
    "tags": []
   },
   "outputs": [],
   "source": [
    "n = 10_000\n",
    "# X = np.random.randn(n)\n",
    "# Y = X**2 + np.random.randn(n)\n",
    "# Z = X*Y + 10*np.random.binomial(1,0.3, n)\n",
    "\n",
    "X = np.random.uniform(-3,3,n)\n",
    "Y = np.random.lognormal(0,1.3,n)\n",
    "cat= np.random.binomial(1,0.3, n )\n",
    "W = np.random.uniform(-3,3,n)\n",
    "Z = X*Y + Y*10*cat + 3*np.random.randn(n)# + 10*np.random.binomial(1,0.3, n)\n"
   ]
  },
  {
   "cell_type": "code",
   "execution_count": 401,
   "id": "d8332558-69c0-4568-9d0f-8cd1c10de13d",
   "metadata": {
    "execution": {
     "iopub.execute_input": "2022-12-21T03:51:56.823426Z",
     "iopub.status.busy": "2022-12-21T03:51:56.823065Z",
     "iopub.status.idle": "2022-12-21T03:51:56.849030Z",
     "shell.execute_reply": "2022-12-21T03:51:56.848074Z",
     "shell.execute_reply.started": "2022-12-21T03:51:56.823399Z"
    },
    "tags": []
   },
   "outputs": [],
   "source": [
    "XY = np.array([X,Y]).T\n",
    "XZ = np.array([X,Z]).T\n",
    "YZ = np.array([Y,Z]).T\n",
    "XYZ = np.array([X,Y,Z]).T\n",
    "\n",
    "XYZWcat = np.array([X,Y,Z,W,cat]).T"
   ]
  },
  {
   "cell_type": "code",
   "execution_count": 402,
   "id": "e72285f6-dcdf-4a0e-94aa-89ab065a0dfc",
   "metadata": {
    "execution": {
     "iopub.execute_input": "2022-12-21T03:51:56.974374Z",
     "iopub.status.busy": "2022-12-21T03:51:56.974004Z",
     "iopub.status.idle": "2022-12-21T03:52:02.951939Z",
     "shell.execute_reply": "2022-12-21T03:52:02.951277Z",
     "shell.execute_reply.started": "2022-12-21T03:51:56.974346Z"
    },
    "tags": []
   },
   "outputs": [
    {
     "data": {
      "text/plain": [
       "<seaborn.axisgrid.JointGrid at 0x15bc82c20>"
      ]
     },
     "execution_count": 402,
     "metadata": {},
     "output_type": "execute_result"
    },
    {
     "data": {
      "image/png": "[encoded data removed]",
      "text/plain": [
       "<Figure size 640x480 with 1 Axes>"
      ]
     },
     "metadata": {},
     "output_type": "display_data"
    },
    {
     "data": {
      "image/png": "[encoded data removed]",
      "text/plain": [
       "<Figure size 600x600 with 3 Axes>"
      ]
     },
     "metadata": {},
     "output_type": "display_data"
    },
    {
     "data": {
      "image/png": "[encoded data removed]",
      "text/plain": [
       "<Figure size 600x600 with 3 Axes>"
      ]
     },
     "metadata": {},
     "output_type": "display_data"
    }
   ],
   "source": [
    "sns.scatterplot(x=X,y=Y)\n",
    "sns.jointplot(x=X,y=Z)\n",
    "sns.jointplot(x=Y,y=Z)\n"
   ]
  },
  {
   "cell_type": "code",
   "execution_count": 403,
   "id": "90b9115d-3644-4c6a-b290-277a80690ae7",
   "metadata": {
    "execution": {
     "iopub.execute_input": "2022-12-21T03:52:02.953683Z",
     "iopub.status.busy": "2022-12-21T03:52:02.953435Z",
     "iopub.status.idle": "2022-12-21T03:52:02.975530Z",
     "shell.execute_reply": "2022-12-21T03:52:02.974811Z",
     "shell.execute_reply.started": "2022-12-21T03:52:02.953665Z"
    },
    "tags": []
   },
   "outputs": [],
   "source": [
    "from scipy import stats"
   ]
  },
  {
   "cell_type": "code",
   "execution_count": 765,
   "id": "d88b6b27-739f-45cc-b190-6a720740d352",
   "metadata": {
    "execution": {
     "iopub.execute_input": "2022-12-21T05:28:26.260127Z",
     "iopub.status.busy": "2022-12-21T05:28:26.259804Z",
     "iopub.status.idle": "2022-12-21T05:28:26.284604Z",
     "shell.execute_reply": "2022-12-21T05:28:26.283824Z",
     "shell.execute_reply.started": "2022-12-21T05:28:26.260101Z"
    },
    "tags": []
   },
   "outputs": [],
   "source": [
    "# n = 100_000\n",
    "# X = np.random.randn(n)\n",
    "# Y = np.random.randn(n)\n",
    "# cat = np.random.binomial(1, 0.3, size = n)\n",
    "# Z = X + Y#+ 10*np.random.binomial(1,0.3, n)"
   ]
  },
  {
   "cell_type": "code",
   "execution_count": 766,
   "id": "8863ca87-909a-4d81-853c-c35fbc0ee482",
   "metadata": {
    "execution": {
     "iopub.execute_input": "2022-12-21T05:28:26.439549Z",
     "iopub.status.busy": "2022-12-21T05:28:26.439226Z",
     "iopub.status.idle": "2022-12-21T05:28:26.465463Z",
     "shell.execute_reply": "2022-12-21T05:28:26.464401Z",
     "shell.execute_reply.started": "2022-12-21T05:28:26.439525Z"
    },
    "tags": []
   },
   "outputs": [],
   "source": [
    "XY = np.array([X,Y]).T\n",
    "XZ = np.array([X,Z]).T\n",
    "YZ = np.array([Y,Z]).T\n",
    "Ycat = np.array([Y,cat]).T\n",
    "XYcat = np.array([X,Y,cat]).T\n",
    "XYZ = np.array([X,Y,Z]).T"
   ]
  },
  {
   "cell_type": "markdown",
   "id": "fcc2fab2-f531-4381-ba4a-134dc00fcf8e",
   "metadata": {},
   "source": [
    "# Test"
   ]
  },
  {
   "cell_type": "code",
   "execution_count": 767,
   "id": "0332a639-2d9b-47c8-a2fa-90618b10d196",
   "metadata": {
    "execution": {
     "iopub.execute_input": "2022-12-21T05:28:27.019780Z",
     "iopub.status.busy": "2022-12-21T05:28:27.019032Z",
     "iopub.status.idle": "2022-12-21T05:28:27.048439Z",
     "shell.execute_reply": "2022-12-21T05:28:27.047494Z",
     "shell.execute_reply.started": "2022-12-21T05:28:27.019746Z"
    },
    "tags": []
   },
   "outputs": [],
   "source": [
    "from sklearn.ensemble import RandomForestClassifier"
   ]
  },
  {
   "cell_type": "code",
   "execution_count": 768,
   "id": "9c5ca53b-49a9-4cc2-bc87-7ee44d79374b",
   "metadata": {
    "execution": {
     "iopub.execute_input": "2022-12-21T05:28:27.353796Z",
     "iopub.status.busy": "2022-12-21T05:28:27.353463Z",
     "iopub.status.idle": "2022-12-21T05:28:27.379545Z",
     "shell.execute_reply": "2022-12-21T05:28:27.378585Z",
     "shell.execute_reply.started": "2022-12-21T05:28:27.353770Z"
    },
    "tags": []
   },
   "outputs": [],
   "source": [
    "cont_X = MutualInformationTree(max_leaf_nodes=200, n_bins_X=None, n_bins_y=10, strategy_y = \"kmeans\")\n",
    "disc_X = MutualInformationTree(max_leaf_nodes=200, n_bins_X=30, n_bins_y=10, strategy_y = \"kmeans\",strategy_X = \"kmeans\")\n",
    "\n",
    "forest = MutualInformationForest(1, max_leaf_nodes = 300,n_bins_X=None, n_bins_y=10, strategy_y = \"kmeans\")"
   ]
  },
  {
   "cell_type": "code",
   "execution_count": 769,
   "id": "55139692-0e93-4e44-972a-a041f5b2e70c",
   "metadata": {
    "execution": {
     "iopub.execute_input": "2022-12-21T05:28:27.648977Z",
     "iopub.status.busy": "2022-12-21T05:28:27.648631Z",
     "iopub.status.idle": "2022-12-21T05:28:27.674107Z",
     "shell.execute_reply": "2022-12-21T05:28:27.672908Z",
     "shell.execute_reply.started": "2022-12-21T05:28:27.648949Z"
    },
    "tags": []
   },
   "outputs": [],
   "source": [
    "train_size = 4_000"
   ]
  },
  {
   "cell_type": "code",
   "execution_count": 770,
   "id": "a3fc5211-6d6e-4e3f-989e-097e51fb5433",
   "metadata": {
    "execution": {
     "iopub.execute_input": "2022-12-21T05:28:27.926229Z",
     "iopub.status.busy": "2022-12-21T05:28:27.925871Z",
     "iopub.status.idle": "2022-12-21T05:28:28.059979Z",
     "shell.execute_reply": "2022-12-21T05:28:28.059255Z",
     "shell.execute_reply.started": "2022-12-21T05:28:27.926212Z"
    },
    "tags": []
   },
   "outputs": [
    {
     "data": {
      "text/plain": [
       "0.12280769410428705"
      ]
     },
     "execution_count": 770,
     "metadata": {},
     "output_type": "execute_result"
    }
   ],
   "source": [
    "forest.fit(Z[:train_size],XY[:train_size]).mutual_information(Z[train_size:],XY[train_size:])"
   ]
  },
  {
   "cell_type": "code",
   "execution_count": 776,
   "id": "3d09a45b-aa72-4422-82b5-4eaff3b0848e",
   "metadata": {
    "execution": {
     "iopub.execute_input": "2022-12-21T05:28:50.946123Z",
     "iopub.status.busy": "2022-12-21T05:28:50.945794Z",
     "iopub.status.idle": "2022-12-21T05:28:51.040648Z",
     "shell.execute_reply": "2022-12-21T05:28:51.039912Z",
     "shell.execute_reply.started": "2022-12-21T05:28:50.946104Z"
    },
    "tags": []
   },
   "outputs": [
    {
     "data": {
      "text/plain": [
       "0"
      ]
     },
     "execution_count": 776,
     "metadata": {},
     "output_type": "execute_result"
    }
   ],
   "source": [
    "forest.fit(X[:train_size],Y[:train_size]).mutual_information(X[train_size:],Y[train_size:])"
   ]
  },
  {
   "cell_type": "code",
   "execution_count": 787,
   "id": "efcc6d32-a684-414e-b7ec-79081d5f9da8",
   "metadata": {
    "execution": {
     "iopub.execute_input": "2022-12-21T05:29:31.023383Z",
     "iopub.status.busy": "2022-12-21T05:29:31.022803Z",
     "iopub.status.idle": "2022-12-21T05:29:31.207414Z",
     "shell.execute_reply": "2022-12-21T05:29:31.206678Z",
     "shell.execute_reply.started": "2022-12-21T05:29:31.023356Z"
    },
    "tags": []
   },
   "outputs": [
    {
     "data": {
      "text/plain": [
       "0.6667876945638018"
      ]
     },
     "execution_count": 787,
     "metadata": {},
     "output_type": "execute_result"
    }
   ],
   "source": [
    "forest.fit(X[:train_size],XY[:train_size]).mutual_information(X[train_size:],XY[train_size:])"
   ]
  },
  {
   "cell_type": "code",
   "execution_count": 788,
   "id": "cb6b2a41-f0d4-4179-9b22-8857d26cd3a3",
   "metadata": {
    "execution": {
     "iopub.execute_input": "2022-12-21T05:29:50.643403Z",
     "iopub.status.busy": "2022-12-21T05:29:50.643059Z",
     "iopub.status.idle": "2022-12-21T05:29:50.698931Z",
     "shell.execute_reply": "2022-12-21T05:29:50.697822Z",
     "shell.execute_reply.started": "2022-12-21T05:29:50.643381Z"
    },
    "tags": []
   },
   "outputs": [
    {
     "data": {
      "text/plain": [
       "0.18072484326878363"
      ]
     },
     "execution_count": 788,
     "metadata": {},
     "output_type": "execute_result"
    }
   ],
   "source": [
    "forest.fit(cat[:train_size],Z[:train_size]).mutual_information(cat[train_size:],Z[train_size:])"
   ]
  },
  {
   "cell_type": "code",
   "execution_count": null,
   "id": "927546c1-49a3-4b32-a612-6ebd507dcef8",
   "metadata": {},
   "outputs": [],
   "source": []
  },
  {
   "cell_type": "code",
   "execution_count": 577,
   "id": "479aa145-2c86-4d35-a120-a15663430c70",
   "metadata": {
    "execution": {
     "iopub.execute_input": "2022-12-21T04:41:53.813551Z",
     "iopub.status.busy": "2022-12-21T04:41:53.813192Z",
     "iopub.status.idle": "2022-12-21T04:42:03.403026Z",
     "shell.execute_reply": "2022-12-21T04:42:03.402233Z",
     "shell.execute_reply.started": "2022-12-21T04:41:53.813520Z"
    },
    "tags": []
   },
   "outputs": [
    {
     "name": "stdout",
     "output_type": "stream",
     "text": [
      "118 ms ± 3.75 ms per loop (mean ± std. dev. of 7 runs, 10 loops each)\n"
     ]
    }
   ],
   "source": [
    "%%timeit\n",
    "forest.fit(Z[:train_size], XY[:train_size]).get_information_gain(Z[train_size:],XY[train_size:])"
   ]
  },
  {
   "cell_type": "code",
   "execution_count": 761,
   "id": "09c0648d-ed4b-4efb-a243-3f48f6e1a972",
   "metadata": {
    "execution": {
     "iopub.execute_input": "2022-12-21T05:23:25.484047Z",
     "iopub.status.busy": "2022-12-21T05:23:25.483467Z",
     "iopub.status.idle": "2022-12-21T05:23:25.713784Z",
     "shell.execute_reply": "2022-12-21T05:23:25.712977Z",
     "shell.execute_reply.started": "2022-12-21T05:23:25.484021Z"
    },
    "tags": []
   },
   "outputs": [
    {
     "data": {
      "text/plain": [
       "array([0.8256605])"
      ]
     },
     "execution_count": 761,
     "metadata": {},
     "output_type": "execute_result"
    }
   ],
   "source": [
    "forest.fit(Z[:train_size], XYcat[:train_size]).conditional_mutual_information(Z[train_size:], XYcat[train_size:])"
   ]
  },
  {
   "cell_type": "code",
   "execution_count": 562,
   "id": "e96e62b3-5d96-4053-bc23-a9c9ae45fea4",
   "metadata": {
    "execution": {
     "iopub.execute_input": "2022-12-21T04:37:54.634559Z",
     "iopub.status.busy": "2022-12-21T04:37:54.634239Z",
     "iopub.status.idle": "2022-12-21T04:37:54.777585Z",
     "shell.execute_reply": "2022-12-21T04:37:54.776353Z",
     "shell.execute_reply.started": "2022-12-21T04:37:54.634537Z"
    },
    "tags": []
   },
   "outputs": [
    {
     "ename": "UnboundLocalError",
     "evalue": "local variable 'n_bins' referenced before assignment",
     "output_type": "error",
     "traceback": [
      "\u001b[0;31m---------------------------------------------------------------------------\u001b[0m",
      "\u001b[0;31mUnboundLocalError\u001b[0m                         Traceback (most recent call last)",
      "Cell \u001b[0;32mIn [562], line 1\u001b[0m\n\u001b[0;32m----> 1\u001b[0m \u001b[43mget_ipython\u001b[49m\u001b[43m(\u001b[49m\u001b[43m)\u001b[49m\u001b[38;5;241;43m.\u001b[39;49m\u001b[43mrun_cell_magic\u001b[49m\u001b[43m(\u001b[49m\u001b[38;5;124;43m'\u001b[39;49m\u001b[38;5;124;43mtimeit\u001b[39;49m\u001b[38;5;124;43m'\u001b[39;49m\u001b[43m,\u001b[49m\u001b[43m \u001b[49m\u001b[38;5;124;43m'\u001b[39;49m\u001b[38;5;124;43m'\u001b[39;49m\u001b[43m,\u001b[49m\u001b[43m \u001b[49m\u001b[38;5;124;43m'\u001b[39;49m\u001b[38;5;124;43mcont_X.fit(XZ,Y).get_information_gain(XZ,Y)\u001b[39;49m\u001b[38;5;130;43;01m\\n\u001b[39;49;00m\u001b[38;5;124;43m'\u001b[39;49m\u001b[43m)\u001b[49m\n",
      "File \u001b[0;32m~/miniconda3/envs/ppscore/lib/python3.10/site-packages/IPython/core/interactiveshell.py:2362\u001b[0m, in \u001b[0;36mInteractiveShell.run_cell_magic\u001b[0;34m(self, magic_name, line, cell)\u001b[0m\n\u001b[1;32m   2360\u001b[0m \u001b[38;5;28;01mwith\u001b[39;00m \u001b[38;5;28mself\u001b[39m\u001b[38;5;241m.\u001b[39mbuiltin_trap:\n\u001b[1;32m   2361\u001b[0m     args \u001b[38;5;241m=\u001b[39m (magic_arg_s, cell)\n\u001b[0;32m-> 2362\u001b[0m     result \u001b[38;5;241m=\u001b[39m \u001b[43mfn\u001b[49m\u001b[43m(\u001b[49m\u001b[38;5;241;43m*\u001b[39;49m\u001b[43margs\u001b[49m\u001b[43m,\u001b[49m\u001b[43m \u001b[49m\u001b[38;5;241;43m*\u001b[39;49m\u001b[38;5;241;43m*\u001b[39;49m\u001b[43mkwargs\u001b[49m\u001b[43m)\u001b[49m\n\u001b[1;32m   2363\u001b[0m \u001b[38;5;28;01mreturn\u001b[39;00m result\n",
      "File \u001b[0;32m~/miniconda3/envs/ppscore/lib/python3.10/site-packages/IPython/core/magics/execution.py:1162\u001b[0m, in \u001b[0;36mExecutionMagics.timeit\u001b[0;34m(self, line, cell, local_ns)\u001b[0m\n\u001b[1;32m   1160\u001b[0m \u001b[38;5;28;01mfor\u001b[39;00m index \u001b[38;5;129;01min\u001b[39;00m \u001b[38;5;28mrange\u001b[39m(\u001b[38;5;241m0\u001b[39m, \u001b[38;5;241m10\u001b[39m):\n\u001b[1;32m   1161\u001b[0m     number \u001b[38;5;241m=\u001b[39m \u001b[38;5;241m10\u001b[39m \u001b[38;5;241m*\u001b[39m\u001b[38;5;241m*\u001b[39m index\n\u001b[0;32m-> 1162\u001b[0m     time_number \u001b[38;5;241m=\u001b[39m \u001b[43mtimer\u001b[49m\u001b[38;5;241;43m.\u001b[39;49m\u001b[43mtimeit\u001b[49m\u001b[43m(\u001b[49m\u001b[43mnumber\u001b[49m\u001b[43m)\u001b[49m\n\u001b[1;32m   1163\u001b[0m     \u001b[38;5;28;01mif\u001b[39;00m time_number \u001b[38;5;241m>\u001b[39m\u001b[38;5;241m=\u001b[39m \u001b[38;5;241m0.2\u001b[39m:\n\u001b[1;32m   1164\u001b[0m         \u001b[38;5;28;01mbreak\u001b[39;00m\n",
      "File \u001b[0;32m~/miniconda3/envs/ppscore/lib/python3.10/site-packages/IPython/core/magics/execution.py:156\u001b[0m, in \u001b[0;36mTimer.timeit\u001b[0;34m(self, number)\u001b[0m\n\u001b[1;32m    154\u001b[0m gc\u001b[38;5;241m.\u001b[39mdisable()\n\u001b[1;32m    155\u001b[0m \u001b[38;5;28;01mtry\u001b[39;00m:\n\u001b[0;32m--> 156\u001b[0m     timing \u001b[38;5;241m=\u001b[39m \u001b[38;5;28;43mself\u001b[39;49m\u001b[38;5;241;43m.\u001b[39;49m\u001b[43minner\u001b[49m\u001b[43m(\u001b[49m\u001b[43mit\u001b[49m\u001b[43m,\u001b[49m\u001b[43m \u001b[49m\u001b[38;5;28;43mself\u001b[39;49m\u001b[38;5;241;43m.\u001b[39;49m\u001b[43mtimer\u001b[49m\u001b[43m)\u001b[49m\n\u001b[1;32m    157\u001b[0m \u001b[38;5;28;01mfinally\u001b[39;00m:\n\u001b[1;32m    158\u001b[0m     \u001b[38;5;28;01mif\u001b[39;00m gcold:\n",
      "File \u001b[0;32m<magic-timeit>:1\u001b[0m, in \u001b[0;36minner\u001b[0;34m(_it, _timer)\u001b[0m\n",
      "Cell \u001b[0;32mIn [383], line 638\u001b[0m, in \u001b[0;36mMutualInformationTree.get_information_gain\u001b[0;34m(self, X, y, sample_weight, x_index)\u001b[0m\n\u001b[1;32m    636\u001b[0m \u001b[38;5;28;01mdef\u001b[39;00m \u001b[38;5;21mget_information_gain\u001b[39m(\u001b[38;5;28mself\u001b[39m, X, y, sample_weight \u001b[38;5;241m=\u001b[39m \u001b[38;5;28;01mNone\u001b[39;00m, x_index \u001b[38;5;241m=\u001b[39m \u001b[38;5;28;01mNone\u001b[39;00m,):        \n\u001b[0;32m--> 638\u001b[0m     \u001b[38;5;28;01mif\u001b[39;00m \u001b[43mn_bins\u001b[49m \u001b[38;5;129;01mis\u001b[39;00m \u001b[38;5;28;01mNone\u001b[39;00m:\n\u001b[1;32m    639\u001b[0m         n_bins \u001b[38;5;241m=\u001b[39m \u001b[38;5;28mself\u001b[39m\u001b[38;5;241m.\u001b[39mn_bins_y\n\u001b[1;32m    641\u001b[0m     leaf_entropies_avg, shffuled_sample_entropy \u001b[38;5;241m=\u001b[39m \u001b[38;5;28mself\u001b[39m\u001b[38;5;241m.\u001b[39mget_leaf_entropies(X, y, sample_weight, n_bins \u001b[38;5;241m=\u001b[39m n_bins, infer_fitted_y \u001b[38;5;241m=\u001b[39m infer_fitted_y, return_both \u001b[38;5;241m=\u001b[39m \u001b[38;5;28;01mTrue\u001b[39;00m)\n",
      "\u001b[0;31mUnboundLocalError\u001b[0m: local variable 'n_bins' referenced before assignment"
     ]
    }
   ],
   "source": [
    "%%timeit\n",
    "cont_X.fit(XZ,Y).get_information_gain(XZ,Y)"
   ]
  },
  {
   "cell_type": "code",
   "execution_count": null,
   "id": "aec4759e-b726-4787-83c5-10fa2964c4b9",
   "metadata": {
    "execution": {
     "iopub.status.busy": "2022-12-20T02:26:03.303623Z",
     "iopub.status.idle": "2022-12-20T02:26:03.303853Z",
     "shell.execute_reply": "2022-12-20T02:26:03.303739Z",
     "shell.execute_reply.started": "2022-12-20T02:26:03.303728Z"
    },
    "tags": []
   },
   "outputs": [],
   "source": [
    "%%timeit\n",
    "forest.fit(XZ,Y).get_information_gain(XZ,Y)"
   ]
  },
  {
   "cell_type": "code",
   "execution_count": null,
   "id": "e0457b6d-204f-4d97-937c-a375e0b15fd0",
   "metadata": {
    "execution": {
     "iopub.status.busy": "2022-12-20T02:26:03.304781Z",
     "iopub.status.idle": "2022-12-20T02:26:03.305008Z",
     "shell.execute_reply": "2022-12-20T02:26:03.304895Z",
     "shell.execute_reply.started": "2022-12-20T02:26:03.304884Z"
    },
    "tags": []
   },
   "outputs": [],
   "source": [
    "# TODO: Find structural dependency by finding uplift in pairs of predictors. then find the k cliques in the graph to determine the degree of dependency"
   ]
  },
  {
   "cell_type": "code",
   "execution_count": 217,
   "id": "b683ae84-1c0e-4b1d-bc6e-b8c49388509e",
   "metadata": {
    "execution": {
     "iopub.execute_input": "2022-12-20T16:31:49.177250Z",
     "iopub.status.busy": "2022-12-20T16:31:49.176894Z",
     "iopub.status.idle": "2022-12-20T16:31:49.203577Z",
     "shell.execute_reply": "2022-12-20T16:31:49.202890Z",
     "shell.execute_reply.started": "2022-12-20T16:31:49.177233Z"
    },
    "tags": []
   },
   "outputs": [],
   "source": [
    "from sklearn.preprocessing import FunctionTransformer, OneHotEncoder\n",
    "from sklearn.compose import ColumnTransformer"
   ]
  },
  {
   "cell_type": "code",
   "execution_count": 218,
   "id": "9de825f4-a3eb-49f7-9d0d-53545a9c0f0b",
   "metadata": {
    "execution": {
     "iopub.execute_input": "2022-12-20T16:31:49.330008Z",
     "iopub.status.busy": "2022-12-20T16:31:49.329674Z",
     "iopub.status.idle": "2022-12-20T16:31:49.355145Z",
     "shell.execute_reply": "2022-12-20T16:31:49.354269Z",
     "shell.execute_reply.started": "2022-12-20T16:31:49.329984Z"
    },
    "tags": []
   },
   "outputs": [],
   "source": [
    "from sklearn.model_selection import TimeSeriesSplit\n",
    "import pandas as pd\n",
    "from sklearn.model_selection import cross_val_predict"
   ]
  },
  {
   "cell_type": "code",
   "execution_count": 219,
   "id": "8a9e6c80-2fd9-4433-aa75-e05795206053",
   "metadata": {
    "execution": {
     "iopub.execute_input": "2022-12-20T16:31:49.490145Z",
     "iopub.status.busy": "2022-12-20T16:31:49.489883Z",
     "iopub.status.idle": "2022-12-20T16:31:49.512934Z",
     "shell.execute_reply": "2022-12-20T16:31:49.512017Z",
     "shell.execute_reply.started": "2022-12-20T16:31:49.490126Z"
    },
    "tags": []
   },
   "outputs": [],
   "source": [
    "d = pd.DataFrame(XYZWcat)"
   ]
  },
  {
   "cell_type": "code",
   "execution_count": 220,
   "id": "5fbafe2f-953c-46a1-8872-4cb4b0cf616c",
   "metadata": {
    "execution": {
     "iopub.execute_input": "2022-12-20T16:31:49.648854Z",
     "iopub.status.busy": "2022-12-20T16:31:49.648290Z",
     "iopub.status.idle": "2022-12-20T16:31:49.673634Z",
     "shell.execute_reply": "2022-12-20T16:31:49.672679Z",
     "shell.execute_reply.started": "2022-12-20T16:31:49.648829Z"
    },
    "tags": []
   },
   "outputs": [],
   "source": [
    "f = lambda a,b,c: 0"
   ]
  },
  {
   "cell_type": "code",
   "execution_count": 222,
   "id": "75121d54-e43d-4815-b210-c62f1e1c56ab",
   "metadata": {
    "execution": {
     "iopub.execute_input": "2022-12-20T16:32:03.047410Z",
     "iopub.status.busy": "2022-12-20T16:32:03.047082Z",
     "iopub.status.idle": "2022-12-20T16:32:03.187907Z",
     "shell.execute_reply": "2022-12-20T16:32:03.187203Z",
     "shell.execute_reply.started": "2022-12-20T16:32:03.047386Z"
    },
    "tags": []
   },
   "outputs": [],
   "source": [
    "cv = TimeSeriesSplit(4)\n",
    "estimators = cross_validate(forest, XZ, Y, scoring = f, error_score = \"raise\", return_estimator = True, cv = cv)[\"estimator\"]"
   ]
  },
  {
   "cell_type": "code",
   "execution_count": 223,
   "id": "40c34bed-0f81-499d-9154-f59f5fc68294",
   "metadata": {
    "execution": {
     "iopub.execute_input": "2022-12-20T16:32:04.976628Z",
     "iopub.status.busy": "2022-12-20T16:32:04.976290Z",
     "iopub.status.idle": "2022-12-20T16:32:05.003182Z",
     "shell.execute_reply": "2022-12-20T16:32:05.002484Z",
     "shell.execute_reply.started": "2022-12-20T16:32:04.976602Z"
    },
    "tags": []
   },
   "outputs": [
    {
     "data": {
      "text/plain": [
       "[MutualInformationForest(max_leaf_nodes=300),\n",
       " MutualInformationForest(max_leaf_nodes=300),\n",
       " MutualInformationForest(max_leaf_nodes=300),\n",
       " MutualInformationForest(max_leaf_nodes=300)]"
      ]
     },
     "execution_count": 223,
     "metadata": {},
     "output_type": "execute_result"
    }
   ],
   "source": [
    "estimators"
   ]
  },
  {
   "cell_type": "code",
   "execution_count": 235,
   "id": "a517e2dc-bfd3-4347-8f14-f8250b95bc43",
   "metadata": {
    "execution": {
     "iopub.execute_input": "2022-12-20T16:35:07.324153Z",
     "iopub.status.busy": "2022-12-20T16:35:07.323712Z",
     "iopub.status.idle": "2022-12-20T16:35:07.823807Z",
     "shell.execute_reply": "2022-12-20T16:35:07.823029Z",
     "shell.execute_reply.started": "2022-12-20T16:35:07.324128Z"
    },
    "tags": []
   },
   "outputs": [],
   "source": [
    "estimators = cross_validate(forest, XZ, Y, scoring = f, error_score = \"raise\", return_estimator = True, cv = cv)[\"estimator\"]\n",
    "d = [(XZ[i[1]],Y[i[1]]) for i in cv.split(XZ)]\n",
    "Hxyz = [estimators[i].get_leaf_entropies(d[i][0], d[i][1], infer_fitted_y = True) for i in range(len(estimators))]\n",
    "Hxz = [estimators[i].get_leaf_entropies(d[i][0], d[i][0][:,0], infer_fitted_y = False) for i in range(len(estimators))]\n",
    "Hyz = [estimators[i].get_leaf_entropies(d[i][0], d[i][0][:,1], infer_fitted_y = False) for i in range(len(estimators))]"
   ]
  },
  {
   "cell_type": "code",
   "execution_count": 242,
   "id": "ac81ba6b-46e0-4570-bb7b-5fe936c29ae3",
   "metadata": {
    "execution": {
     "iopub.execute_input": "2022-12-20T16:36:15.543579Z",
     "iopub.status.busy": "2022-12-20T16:36:15.543211Z",
     "iopub.status.idle": "2022-12-20T16:36:15.582878Z",
     "shell.execute_reply": "2022-12-20T16:36:15.581259Z",
     "shell.execute_reply.started": "2022-12-20T16:36:15.543552Z"
    },
    "tags": []
   },
   "outputs": [
    {
     "ename": "IndexError",
     "evalue": "tuple index out of range",
     "output_type": "error",
     "traceback": [
      "\u001b[0;31m---------------------------------------------------------------------------\u001b[0m",
      "\u001b[0;31mIndexError\u001b[0m                                Traceback (most recent call last)",
      "Cell \u001b[0;32mIn [242], line 1\u001b[0m\n\u001b[0;32m----> 1\u001b[0m \u001b[43mHxyz\u001b[49m\u001b[43m[\u001b[49m\u001b[38;5;241;43m0\u001b[39;49m\u001b[43m]\u001b[49m\u001b[43m[\u001b[49m\u001b[38;5;241;43m2\u001b[39;49m\u001b[43m]\u001b[49m\n",
      "\u001b[0;31mIndexError\u001b[0m: tuple index out of range"
     ]
    }
   ],
   "source": [
    "Hxyz[0]"
   ]
  },
  {
   "cell_type": "code",
   "execution_count": 236,
   "id": "6cec5a8d-31b9-43a8-8bd0-8631a7f4c955",
   "metadata": {
    "execution": {
     "iopub.execute_input": "2022-12-20T16:35:07.825873Z",
     "iopub.status.busy": "2022-12-20T16:35:07.825580Z",
     "iopub.status.idle": "2022-12-20T16:35:07.858544Z",
     "shell.execute_reply": "2022-12-20T16:35:07.857608Z",
     "shell.execute_reply.started": "2022-12-20T16:35:07.825849Z"
    },
    "tags": []
   },
   "outputs": [
    {
     "data": {
      "text/plain": [
       "([0.0024813430234313493,\n",
       "  0.0030108279045396947,\n",
       "  0.004483750576302449,\n",
       "  0.0038468063342648184],\n",
       " [0.002456506261905687,\n",
       "  0.0029107887772720055,\n",
       "  0.0018650955569435043,\n",
       "  0.0022072126522987645],\n",
       " [0.004735188493761586,\n",
       "  0.005712362524892707,\n",
       "  0.005101251996585204,\n",
       "  0.005236648966560195])"
      ]
     },
     "execution_count": 236,
     "metadata": {},
     "output_type": "execute_result"
    }
   ],
   "source": [
    "[np.mean(i) for i in Hxyz]\n",
    "[np.mean(i) for i in Hyz]\n",
    "[np.mean(i) for i in Hxz]"
   ]
  },
  {
   "cell_type": "code",
   "execution_count": 221,
   "id": "93557441-5a21-432c-b284-407cf6cfd560",
   "metadata": {
    "execution": {
     "iopub.execute_input": "2022-12-20T16:31:49.807422Z",
     "iopub.status.busy": "2022-12-20T16:31:49.807100Z",
     "iopub.status.idle": "2022-12-20T16:31:55.417363Z",
     "shell.execute_reply": "2022-12-20T16:31:55.415809Z",
     "shell.execute_reply.started": "2022-12-20T16:31:49.807396Z"
    },
    "tags": []
   },
   "outputs": [
    {
     "name": "stderr",
     "output_type": "stream",
     "text": [
      "\n",
      "KeyboardInterrupt\n",
      "\n"
     ]
    }
   ],
   "source": [
    "%%timeit\n",
    "cross_validate(forest, XZ, Y, scoring = f, error_score = \"raise\", return_estimator = True)"
   ]
  },
  {
   "cell_type": "code",
   "execution_count": null,
   "id": "60281308-6d55-477a-b9f9-bd1815f86bed",
   "metadata": {},
   "outputs": [],
   "source": []
  }
 ],
 "metadata": {
  "kernelspec": {
   "display_name": "Python 3 (ipykernel)",
   "language": "python",
   "name": "python3"
  },
  "language_info": {
   "codemirror_mode": {
    "name": "ipython",
    "version": 3
   },
   "file_extension": ".py",
   "mimetype": "text/x-python",
   "name": "python",
   "nbconvert_exporter": "python",
   "pygments_lexer": "ipython3",
   "version": "3.10.6"
  }
 },
 "nbformat": 4,
 "nbformat_minor": 5
}
